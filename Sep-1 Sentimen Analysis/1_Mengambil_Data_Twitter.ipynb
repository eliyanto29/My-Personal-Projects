{
  "nbformat": 4,
  "nbformat_minor": 0,
  "metadata": {
    "kernelspec": {
      "display_name": "Python 3",
      "language": "python",
      "name": "python3"
    },
    "language_info": {
      "codemirror_mode": {
        "name": "ipython",
        "version": 3
      },
      "file_extension": ".py",
      "mimetype": "text/x-python",
      "name": "python",
      "nbconvert_exporter": "python",
      "pygments_lexer": "ipython3",
      "version": "3.7.4"
    },
    "colab": {
      "name": "1 Mengambil Data Twitter.ipynb",
      "provenance": [],
      "collapsed_sections": []
    },
    "accelerator": "GPU"
  },
  "cells": [
    {
      "cell_type": "markdown",
      "metadata": {
        "id": "DCbF9wAoFP5l",
        "colab_type": "text"
      },
      "source": [
        "# Analisis Teks Cuitan di Twitter"
      ]
    },
    {
      "cell_type": "markdown",
      "metadata": {
        "id": "m8iDkZkRFP5u",
        "colab_type": "text"
      },
      "source": [
        "### Mengambil data dari Twitter"
      ]
    },
    {
      "cell_type": "code",
      "metadata": {
        "id": "lABP7MHGFP5x",
        "colab_type": "code",
        "colab": {
          "base_uri": "https://localhost:8080/",
          "height": 207
        },
        "outputId": "65ac2076-74a4-4153-c319-7d6ccae993ab"
      },
      "source": [
        "#Jika belum terinstal tweepy dapat menginstal dengan perintah berikut:\n",
        "!pip install tweepy\n",
        "import tweepy\n",
        "import pandas as pd\n",
        "from tweepy import OAuthHandler"
      ],
      "execution_count": null,
      "outputs": [
        {
          "output_type": "stream",
          "text": [
            "Requirement already satisfied: tweepy in /usr/local/lib/python3.6/dist-packages (3.6.0)\n",
            "Requirement already satisfied: requests-oauthlib>=0.7.0 in /usr/local/lib/python3.6/dist-packages (from tweepy) (1.3.0)\n",
            "Requirement already satisfied: PySocks>=1.5.7 in /usr/local/lib/python3.6/dist-packages (from tweepy) (1.7.1)\n",
            "Requirement already satisfied: requests>=2.11.1 in /usr/local/lib/python3.6/dist-packages (from tweepy) (2.23.0)\n",
            "Requirement already satisfied: six>=1.10.0 in /usr/local/lib/python3.6/dist-packages (from tweepy) (1.15.0)\n",
            "Requirement already satisfied: oauthlib>=3.0.0 in /usr/local/lib/python3.6/dist-packages (from requests-oauthlib>=0.7.0->tweepy) (3.1.0)\n",
            "Requirement already satisfied: certifi>=2017.4.17 in /usr/local/lib/python3.6/dist-packages (from requests>=2.11.1->tweepy) (2020.6.20)\n",
            "Requirement already satisfied: idna<3,>=2.5 in /usr/local/lib/python3.6/dist-packages (from requests>=2.11.1->tweepy) (2.10)\n",
            "Requirement already satisfied: chardet<4,>=3.0.2 in /usr/local/lib/python3.6/dist-packages (from requests>=2.11.1->tweepy) (3.0.4)\n",
            "Requirement already satisfied: urllib3!=1.25.0,!=1.25.1,<1.26,>=1.21.1 in /usr/local/lib/python3.6/dist-packages (from requests>=2.11.1->tweepy) (1.24.3)\n"
          ],
          "name": "stdout"
        }
      ]
    },
    {
      "cell_type": "code",
      "metadata": {
        "id": "Po_6h9CdFP59",
        "colab_type": "code",
        "colab": {}
      },
      "source": [
        "# Memperoleh akses data ke Twitter\n",
        "# http://apps.twitter.com\n",
        "consumer_key = 'GkJjw1K9ZaJ6dzQrFzCFHnFou'\n",
        "consumer_secret = 'pKdZdTcB8nDZaT8pk3gSnQGdzlBx4L3yrXwTrHVeS5rdX0xoEy' \n",
        "access_token = '955350081544142848-H4gMpsVgTGnVZk4vHxL0MI6l988WmpF' \n",
        "access_secret = 'U9K8dOGNeF94MeZJ7tIs0jDi3OQySFoGBMY8nFypsSTwV'\n",
        "\n",
        "# membuat object authentication ke API Twitter\n",
        "auth = tweepy.OAuthHandler(consumer_key, consumer_secret)\n",
        "# mensetting access token and secret key\n",
        "auth.set_access_token(access_token, access_secret)\n",
        "# melakukan authentication ke Twitter API\n",
        "api = tweepy.API(auth)"
      ],
      "execution_count": null,
      "outputs": []
    },
    {
      "cell_type": "code",
      "metadata": {
        "id": "WNxlqnvIFP6I",
        "colab_type": "code",
        "colab": {}
      },
      "source": [
        "#Mengumpulkan cuitan dengan KATA KUNCI TERTENTU\n",
        "tweets_data = []\n",
        "api = tweepy.API(auth, wait_on_rate_limit=True)\n",
        "for tweet in tweepy.Cursor(api.search,q=\"GIBRAN\").items(10000):\n",
        "    tweets_data.append([tweet.author.screen_name,\n",
        "                        tweet.lang,\n",
        "                        tweet.created_at,\n",
        "                        tweet.favorite_count,\n",
        "                        tweet.retweet_count,\n",
        "                        tweet.text,\n",
        "                        tweet.user.location])\n",
        "print(tweets_data)"
      ],
      "execution_count": null,
      "outputs": []
    },
    {
      "cell_type": "code",
      "metadata": {
        "id": "ZtsfakIeFP6U",
        "colab_type": "code",
        "colab": {
          "base_uri": "https://localhost:8080/",
          "height": 762
        },
        "outputId": "dc8a2070-3db5-4954-e998-25a519751130"
      },
      "source": [
        "    #Mengubah data cuitan ke dalam DataFrame\n",
        "import pandas as pd\n",
        "tweets_pd = pd.DataFrame(tweets_data,\n",
        "                         columns=['screen_name', 'lang', 'created_at', 'fav_count', 'retweet_count', 'text', 'location'])\n",
        "display(tweets_pd)"
      ],
      "execution_count": null,
      "outputs": [
        {
          "output_type": "display_data",
          "data": {
            "text/html": [
              "<div>\n",
              "<style scoped>\n",
              "    .dataframe tbody tr th:only-of-type {\n",
              "        vertical-align: middle;\n",
              "    }\n",
              "\n",
              "    .dataframe tbody tr th {\n",
              "        vertical-align: top;\n",
              "    }\n",
              "\n",
              "    .dataframe thead th {\n",
              "        text-align: right;\n",
              "    }\n",
              "</style>\n",
              "<table border=\"1\" class=\"dataframe\">\n",
              "  <thead>\n",
              "    <tr style=\"text-align: right;\">\n",
              "      <th></th>\n",
              "      <th>screen_name</th>\n",
              "      <th>lang</th>\n",
              "      <th>created_at</th>\n",
              "      <th>fav_count</th>\n",
              "      <th>retweet_count</th>\n",
              "      <th>text</th>\n",
              "      <th>location</th>\n",
              "    </tr>\n",
              "  </thead>\n",
              "  <tbody>\n",
              "    <tr>\n",
              "      <th>0</th>\n",
              "      <td>gibran_jordao</td>\n",
              "      <td>und</td>\n",
              "      <td>2020-09-22 18:24:15</td>\n",
              "      <td>0</td>\n",
              "      <td>0</td>\n",
              "      <td>#BolsonaroMenteNaONU \\n#BolsonaroMentiroso htt...</td>\n",
              "      <td></td>\n",
              "    </tr>\n",
              "    <tr>\n",
              "      <th>1</th>\n",
              "      <td>captainrodes</td>\n",
              "      <td>es</td>\n",
              "      <td>2020-09-22 18:24:10</td>\n",
              "      <td>0</td>\n",
              "      <td>107</td>\n",
              "      <td>RT @SimpsonitoMX: ¿Qué tal esto, chicos? Gibrá...</td>\n",
              "      <td>Baltimore, MD</td>\n",
              "    </tr>\n",
              "    <tr>\n",
              "      <th>2</th>\n",
              "      <td>amymhayu</td>\n",
              "      <td>es</td>\n",
              "      <td>2020-09-22 18:23:54</td>\n",
              "      <td>0</td>\n",
              "      <td>7</td>\n",
              "      <td>RT @pepe_genesis07: Por un lado, la \"diputada\"...</td>\n",
              "      <td>Veracruz, México.</td>\n",
              "    </tr>\n",
              "    <tr>\n",
              "      <th>3</th>\n",
              "      <td>MarcosFunkh</td>\n",
              "      <td>es</td>\n",
              "      <td>2020-09-22 18:23:25</td>\n",
              "      <td>0</td>\n",
              "      <td>145</td>\n",
              "      <td>RT @HernanGomezB: Lamentablemente @zoerobledo ...</td>\n",
              "      <td>Mexico</td>\n",
              "    </tr>\n",
              "    <tr>\n",
              "      <th>4</th>\n",
              "      <td>ggomezr1</td>\n",
              "      <td>es</td>\n",
              "      <td>2020-09-22 18:23:21</td>\n",
              "      <td>0</td>\n",
              "      <td>42</td>\n",
              "      <td>RT @elsurdeguerrero: #OpiniónElSur Qué Pena, P...</td>\n",
              "      <td></td>\n",
              "    </tr>\n",
              "    <tr>\n",
              "      <th>...</th>\n",
              "      <td>...</td>\n",
              "      <td>...</td>\n",
              "      <td>...</td>\n",
              "      <td>...</td>\n",
              "      <td>...</td>\n",
              "      <td>...</td>\n",
              "      <td>...</td>\n",
              "    </tr>\n",
              "    <tr>\n",
              "      <th>995</th>\n",
              "      <td>LuisMonVall</td>\n",
              "      <td>es</td>\n",
              "      <td>2020-09-22 15:06:11</td>\n",
              "      <td>0</td>\n",
              "      <td>0</td>\n",
              "      <td>@MarioAl06633638 @HernanGomezB @zoerobledo @gi...</td>\n",
              "      <td></td>\n",
              "    </tr>\n",
              "    <tr>\n",
              "      <th>996</th>\n",
              "      <td>Jaqueline_S_MCA</td>\n",
              "      <td>in</td>\n",
              "      <td>2020-09-22 15:05:41</td>\n",
              "      <td>2</td>\n",
              "      <td>0</td>\n",
              "      <td>@Lexwu13 Jalur independen justru di curigai kh...</td>\n",
              "      <td></td>\n",
              "    </tr>\n",
              "    <tr>\n",
              "      <th>997</th>\n",
              "      <td>AbnerAguirre3</td>\n",
              "      <td>es</td>\n",
              "      <td>2020-09-22 15:05:39</td>\n",
              "      <td>0</td>\n",
              "      <td>7</td>\n",
              "      <td>RT @Pablo_alvidrezz: Gibrán quiere correr a Ló...</td>\n",
              "      <td>Jalisco, México</td>\n",
              "    </tr>\n",
              "    <tr>\n",
              "      <th>998</th>\n",
              "      <td>RicoBeaColeman1</td>\n",
              "      <td>es</td>\n",
              "      <td>2020-09-22 15:05:37</td>\n",
              "      <td>0</td>\n",
              "      <td>425</td>\n",
              "      <td>RT @gibranrr: Al afirmar que me han comprado p...</td>\n",
              "      <td>Wakanda, Africa</td>\n",
              "    </tr>\n",
              "    <tr>\n",
              "      <th>999</th>\n",
              "      <td>gantoniobarba</td>\n",
              "      <td>es</td>\n",
              "      <td>2020-09-22 15:05:35</td>\n",
              "      <td>0</td>\n",
              "      <td>1761</td>\n",
              "      <td>RT @tatclouthier: \"Qué pena Porfirió\", artícul...</td>\n",
              "      <td></td>\n",
              "    </tr>\n",
              "  </tbody>\n",
              "</table>\n",
              "<p>1000 rows × 7 columns</p>\n",
              "</div>"
            ],
            "text/plain": [
              "         screen_name  ...           location\n",
              "0      gibran_jordao  ...                   \n",
              "1       captainrodes  ...      Baltimore, MD\n",
              "2           amymhayu  ...  Veracruz, México.\n",
              "3        MarcosFunkh  ...             Mexico\n",
              "4           ggomezr1  ...                   \n",
              "..               ...  ...                ...\n",
              "995      LuisMonVall  ...                   \n",
              "996  Jaqueline_S_MCA  ...                   \n",
              "997    AbnerAguirre3  ...    Jalisco, México\n",
              "998  RicoBeaColeman1  ...    Wakanda, Africa\n",
              "999    gantoniobarba  ...                   \n",
              "\n",
              "[1000 rows x 7 columns]"
            ]
          },
          "metadata": {
            "tags": []
          }
        }
      ]
    },
    {
      "cell_type": "code",
      "metadata": {
        "id": "SXg4w4IhFP6g",
        "colab_type": "code",
        "colab": {}
      },
      "source": [
        "# mengkonversi dataframe ke file csv\n",
        "bytes_to_write = tweets_pd.to_csv('hasil_scrapping22September_2.csv')"
      ],
      "execution_count": null,
      "outputs": []
    },
    {
      "cell_type": "code",
      "metadata": {
        "id": "iUJWkKHRyQPX",
        "colab_type": "code",
        "colab": {}
      },
      "source": [
        ""
      ],
      "execution_count": null,
      "outputs": []
    }
  ]
}