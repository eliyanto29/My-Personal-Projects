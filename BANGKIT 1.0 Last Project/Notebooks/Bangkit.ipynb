{
  "nbformat": 4,
  "nbformat_minor": 0,
  "metadata": {
    "accelerator": "GPU",
    "colab": {
      "name": "Bangkit-try.ipynb",
      "provenance": [],
      "collapsed_sections": []
    },
    "kernelspec": {
      "display_name": "Python 3",
      "language": "python",
      "name": "python3"
    },
    "language_info": {
      "codemirror_mode": {
        "name": "ipython",
        "version": 3
      },
      "file_extension": ".py",
      "mimetype": "text/x-python",
      "name": "python",
      "nbconvert_exporter": "python",
      "pygments_lexer": "ipython3",
      "version": "3.7.6"
    }
  },
  "cells": [
    {
      "cell_type": "code",
      "metadata": {
        "colab_type": "code",
        "id": "sdajYxSFDS-M",
        "colab": {}
      },
      "source": [
        "import random\n",
        "import time\n",
        "import tensorflow as tf\n",
        "\n",
        "from pydrive.auth import GoogleAuth\n",
        "from pydrive.drive import GoogleDrive\n",
        "from google.colab import auth\n",
        "from oauth2client.client import GoogleCredentials\n",
        "import tempfile\n",
        "from sklearn.metrics import classification_report, confusion_matrix\n",
        "\n",
        "import numpy as np\n",
        "import pandas as pd\n",
        "import seaborn as sns \n",
        "%matplotlib inline\n",
        "from IPython.display import display, Image\n",
        "import matplotlib.image as mpimg\n",
        "import cv2\n",
        "\n",
        "from sklearn.model_selection import train_test_split\n",
        "from sklearn.datasets import load_files       \n",
        "from keras.utils import np_utils\n",
        "from sklearn.utils import shuffle\n",
        "\n",
        "from keras.preprocessing import image\n",
        "from tensorflow.keras.callbacks import ModelCheckpoint,EarlyStopping\n",
        "from keras.utils.vis_utils import plot_model\n",
        "from tensorflow.keras.models import Sequential, save_model,Model\n",
        "from tensorflow.keras.layers import Conv2D, MaxPooling2D, Flatten, Dense, Dropout, BatchNormalization, GlobalAveragePooling2D\n",
        "from tensorflow.keras.layers import Conv2D, MaxPooling2D"
      ],
      "execution_count": 2,
      "outputs": []
    },
    {
      "cell_type": "code",
      "metadata": {
        "id": "Bhw-BMZxsV07",
        "colab_type": "code",
        "colab": {
          "base_uri": "https://localhost:8080/",
          "height": 272
        },
        "outputId": "b054d107-62b9-45bb-aff7-e0e9a3a3b6a5"
      },
      "source": [
        "!pip install PyDrive #This Module are used to download file from google drive"
      ],
      "execution_count": 3,
      "outputs": [
        {
          "output_type": "stream",
          "text": [
            "Requirement already satisfied: PyDrive in /usr/local/lib/python3.6/dist-packages (1.3.1)\n",
            "Requirement already satisfied: oauth2client>=4.0.0 in /usr/local/lib/python3.6/dist-packages (from PyDrive) (4.1.3)\n",
            "Requirement already satisfied: PyYAML>=3.0 in /usr/local/lib/python3.6/dist-packages (from PyDrive) (3.13)\n",
            "Requirement already satisfied: google-api-python-client>=1.2 in /usr/local/lib/python3.6/dist-packages (from PyDrive) (1.7.12)\n",
            "Requirement already satisfied: six>=1.6.1 in /usr/local/lib/python3.6/dist-packages (from oauth2client>=4.0.0->PyDrive) (1.12.0)\n",
            "Requirement already satisfied: pyasn1>=0.1.7 in /usr/local/lib/python3.6/dist-packages (from oauth2client>=4.0.0->PyDrive) (0.4.8)\n",
            "Requirement already satisfied: pyasn1-modules>=0.0.5 in /usr/local/lib/python3.6/dist-packages (from oauth2client>=4.0.0->PyDrive) (0.2.8)\n",
            "Requirement already satisfied: httplib2>=0.9.1 in /usr/local/lib/python3.6/dist-packages (from oauth2client>=4.0.0->PyDrive) (0.17.4)\n",
            "Requirement already satisfied: rsa>=3.1.4 in /usr/local/lib/python3.6/dist-packages (from oauth2client>=4.0.0->PyDrive) (4.6)\n",
            "Requirement already satisfied: google-auth-httplib2>=0.0.3 in /usr/local/lib/python3.6/dist-packages (from google-api-python-client>=1.2->PyDrive) (0.0.3)\n",
            "Requirement already satisfied: google-auth>=1.4.1 in /usr/local/lib/python3.6/dist-packages (from google-api-python-client>=1.2->PyDrive) (1.17.2)\n",
            "Requirement already satisfied: uritemplate<4dev,>=3.0.0 in /usr/local/lib/python3.6/dist-packages (from google-api-python-client>=1.2->PyDrive) (3.0.1)\n",
            "Requirement already satisfied: cachetools<5.0,>=2.0.0 in /usr/local/lib/python3.6/dist-packages (from google-auth>=1.4.1->google-api-python-client>=1.2->PyDrive) (4.1.0)\n",
            "Requirement already satisfied: setuptools>=40.3.0 in /usr/local/lib/python3.6/dist-packages (from google-auth>=1.4.1->google-api-python-client>=1.2->PyDrive) (47.3.1)\n"
          ],
          "name": "stdout"
        }
      ]
    },
    {
      "cell_type": "code",
      "metadata": {
        "id": "o0BX6HrlBAuq",
        "colab_type": "code",
        "colab": {}
      },
      "source": [
        "auth.authenticate_user() #authenticate your google account \n",
        "gauth = GoogleAuth()\n",
        "gauth.credentials = GoogleCredentials.get_application_default()\n",
        "drive = GoogleDrive(gauth)"
      ],
      "execution_count": 4,
      "outputs": []
    },
    {
      "cell_type": "code",
      "metadata": {
        "id": "o1CbS4vZBR3D",
        "colab_type": "code",
        "colab": {}
      },
      "source": [
        "downloaded = drive.CreateFile({'id':\"1NqmSuCu885NcCCfkB3aSsXcMczKhb0I8\"})  #get file from google drive\n",
        "downloaded.GetContentFile('imgs.zip') "
      ],
      "execution_count": 5,
      "outputs": []
    },
    {
      "cell_type": "code",
      "metadata": {
        "id": "w_GpEGdfsfKF",
        "colab_type": "code",
        "colab": {}
      },
      "source": [
        "!unzip -q '/content/imgs.zip'"
      ],
      "execution_count": 7,
      "outputs": []
    },
    {
      "cell_type": "code",
      "metadata": {
        "colab_type": "code",
        "id": "GjY5b3G1IfNT",
        "colab": {
          "base_uri": "https://localhost:8080/",
          "height": 67
        },
        "outputId": "e087f16a-1212-40b8-c6ff-b1d54adfb906"
      },
      "source": [
        "IMAGE_SIZE = 224\n",
        "BATCH_SIZE = 16\n",
        "\n",
        "train_datagen = tf.keras.preprocessing.image.ImageDataGenerator(rescale=1./255,validation_split=0.2)\n",
        "   \n",
        "    \n",
        "test_datagen = tf.keras.preprocessing.image.ImageDataGenerator(\n",
        "    rescale=1./255)\n",
        "train_generator = train_datagen.flow_from_directory(\n",
        "    '/content/imgs/train', #change it into your train directory\n",
        "    target_size=(IMAGE_SIZE, IMAGE_SIZE),\n",
        "    batch_size=BATCH_SIZE,\n",
        "    class_mode=\"categorical\",\n",
        "    subset='training',\n",
        "    shuffle=True)\n",
        "\n",
        "\n",
        "val_generator = train_datagen.flow_from_directory(\n",
        "   '/content/imgs/train', #change it into your train directory\n",
        "    target_size=(IMAGE_SIZE, IMAGE_SIZE),\n",
        "    batch_size=BATCH_SIZE, \n",
        "    class_mode=\"categorical\",\n",
        "    subset='validation',\n",
        "    shuffle=True)\n",
        "\n",
        "\n",
        "test_generator = test_datagen.flow_from_directory(\n",
        "   '/content/imgs/test', #change it into your test directory\n",
        "    target_size=(IMAGE_SIZE, IMAGE_SIZE),\n",
        "    batch_size=BATCH_SIZE, \n",
        "    class_mode=None,\n",
        "    shuffle=False)"
      ],
      "execution_count": null,
      "outputs": [
        {
          "output_type": "stream",
          "text": [
            "Found 17943 images belonging to 10 classes.\n",
            "Found 4481 images belonging to 10 classes.\n",
            "Found 35910 images belonging to 1 classes.\n"
          ],
          "name": "stdout"
        }
      ]
    },
    {
      "cell_type": "code",
      "metadata": {
        "colab_type": "code",
        "id": "eGG951B2LzFQ",
        "colab": {
          "base_uri": "https://localhost:8080/",
          "height": 34
        },
        "outputId": "88ffa2e3-8d1d-4ac6-f3c9-ee66d96bf8a6"
      },
      "source": [
        "for image_batch, label_batch in train_generator:\n",
        "  break\n",
        "image_batch.shape, label_batch.shape #Print the batch size and labels."
      ],
      "execution_count": null,
      "outputs": [
        {
          "output_type": "execute_result",
          "data": {
            "text/plain": [
              "((32, 224, 224, 3), (32, 10))"
            ]
          },
          "metadata": {
            "tags": []
          },
          "execution_count": 9
        }
      ]
    },
    {
      "cell_type": "code",
      "metadata": {
        "colab_type": "code",
        "id": "7oEA1JhfM8iP",
        "colab": {
          "base_uri": "https://localhost:8080/",
          "height": 54
        },
        "outputId": "ef0bc75b-4593-4256-cadb-3cefed579efd"
      },
      "source": [
        "print (train_generator.class_indices)\n",
        "\n",
        "labels = '\\n'.join(sorted(train_generator.class_indices.keys()))\n",
        "\n",
        "with open('labels.txt', 'w') as f:\n",
        "  f.write(labels)"
      ],
      "execution_count": null,
      "outputs": [
        {
          "output_type": "stream",
          "text": [
            "{'Doing Hair or Makeup': 0, 'Drinking': 1, 'Operating Radio': 2, 'Reaching Behind': 3, 'Save Driving': 4, 'Talking On The Phone left': 5, 'Talking On The phone Right': 6, 'Talking to passenger': 7, 'Texting Left': 8, 'Texting Right': 9}\n"
          ],
          "name": "stdout"
        }
      ]
    },
    {
      "cell_type": "code",
      "metadata": {
        "colab_type": "code",
        "id": "gpwsLq20VWVS",
        "colab": {
          "base_uri": "https://localhost:8080/",
          "height": 521
        },
        "outputId": "147c46c7-1077-493a-9ebe-9dcd855d0c89"
      },
      "source": [
        "model1 = tf.keras.models.Sequential([\n",
        "    tf.keras.layers.Conv2D(512, (3, 3), activation='relu', input_shape=(224, 224, 3)),\n",
        "    tf.keras.layers.MaxPooling2D(2, 2),\n",
        "    tf.keras.layers.Conv2D(256, (3, 3), activation='relu'),\n",
        "    tf.keras.layers.MaxPooling2D(2, 2),\n",
        "    tf.keras.layers.Conv2D(128, (3, 3), activation='relu'),\n",
        "    tf.keras.layers.MaxPooling2D(2, 2),\n",
        "    tf.keras.layers.Conv2D(64, (3, 3), activation='relu'),\n",
        "    tf.keras.layers.MaxPooling2D(2, 2),\n",
        "    tf.keras.layers.Flatten(),\n",
        "    tf.keras.layers.Dense(512, activation=tf.nn.relu),\n",
        "    tf.keras.layers.Dense(10, activation=tf.nn.softmax)])\n",
        "\n",
        "checkpointer = tf.keras.callbacks.ModelCheckpoint('cnn_stratch_best.hdf5', verbose=1, save_best_only=True)\n",
        "earlystop = EarlyStopping(monitor='val_accuracy', patience=2, verbose=1)\n",
        "opt = tf.keras.optimizers.Adam(learning_rate=0.0001) \n",
        "model1.compile(optimizer=opt,\n",
        "              loss='categorical_crossentropy',\n",
        "              metrics=['accuracy'])\n",
        "\n",
        "model1.summary()"
      ],
      "execution_count": null,
      "outputs": [
        {
          "output_type": "stream",
          "text": [
            "Model: \"sequential_1\"\n",
            "_________________________________________________________________\n",
            "Layer (type)                 Output Shape              Param #   \n",
            "=================================================================\n",
            "conv2d_4 (Conv2D)            (None, 222, 222, 512)     14336     \n",
            "_________________________________________________________________\n",
            "max_pooling2d_4 (MaxPooling2 (None, 111, 111, 512)     0         \n",
            "_________________________________________________________________\n",
            "conv2d_5 (Conv2D)            (None, 109, 109, 256)     1179904   \n",
            "_________________________________________________________________\n",
            "max_pooling2d_5 (MaxPooling2 (None, 54, 54, 256)       0         \n",
            "_________________________________________________________________\n",
            "conv2d_6 (Conv2D)            (None, 52, 52, 128)       295040    \n",
            "_________________________________________________________________\n",
            "max_pooling2d_6 (MaxPooling2 (None, 26, 26, 128)       0         \n",
            "_________________________________________________________________\n",
            "conv2d_7 (Conv2D)            (None, 24, 24, 64)        73792     \n",
            "_________________________________________________________________\n",
            "max_pooling2d_7 (MaxPooling2 (None, 12, 12, 64)        0         \n",
            "_________________________________________________________________\n",
            "flatten_1 (Flatten)          (None, 9216)              0         \n",
            "_________________________________________________________________\n",
            "dense_2 (Dense)              (None, 512)               4719104   \n",
            "_________________________________________________________________\n",
            "dense_3 (Dense)              (None, 10)                5130      \n",
            "=================================================================\n",
            "Total params: 6,287,306\n",
            "Trainable params: 6,287,306\n",
            "Non-trainable params: 0\n",
            "_________________________________________________________________\n"
          ],
          "name": "stdout"
        }
      ]
    },
    {
      "cell_type": "code",
      "metadata": {
        "colab_type": "code",
        "id": "EUX88aljV6-K",
        "scrolled": true,
        "colab": {
          "base_uri": "https://localhost:8080/",
          "height": 437
        },
        "outputId": "0061a836-25ff-4069-897b-ea3185947d94"
      },
      "source": [
        "history = model1.fit(train_generator, \n",
        "                    steps_per_epoch=len(train_generator), \n",
        "                    epochs=10, \n",
        "                    validation_data=val_generator, \n",
        "                    validation_steps=len(val_generator),callbacks=[checkpointer,earlystop])"
      ],
      "execution_count": null,
      "outputs": [
        {
          "output_type": "stream",
          "text": [
            "Epoch 1/10\n",
            "1122/1122 [==============================] - ETA: 0s - loss: 0.5788 - accuracy: 0.8061\n",
            "Epoch 00001: val_loss improved from inf to 0.10885, saving model to cnn_stratch_best.hdf5\n",
            "1122/1122 [==============================] - 648s 578ms/step - loss: 0.5788 - accuracy: 0.8061 - val_loss: 0.1089 - val_accuracy: 0.9708\n",
            "Epoch 2/10\n",
            "1122/1122 [==============================] - ETA: 0s - loss: 0.0687 - accuracy: 0.9805\n",
            "Epoch 00002: val_loss improved from 0.10885 to 0.10088, saving model to cnn_stratch_best.hdf5\n",
            "1122/1122 [==============================] - 648s 578ms/step - loss: 0.0687 - accuracy: 0.9805 - val_loss: 0.1009 - val_accuracy: 0.9732\n",
            "Epoch 3/10\n",
            "1122/1122 [==============================] - ETA: 0s - loss: 0.0329 - accuracy: 0.9909\n",
            "Epoch 00003: val_loss improved from 0.10088 to 0.06112, saving model to cnn_stratch_best.hdf5\n",
            "1122/1122 [==============================] - 647s 577ms/step - loss: 0.0329 - accuracy: 0.9909 - val_loss: 0.0611 - val_accuracy: 0.9850\n",
            "Epoch 4/10\n",
            "1122/1122 [==============================] - ETA: 0s - loss: 0.0170 - accuracy: 0.9955\n",
            "Epoch 00004: val_loss improved from 0.06112 to 0.03433, saving model to cnn_stratch_best.hdf5\n",
            "1122/1122 [==============================] - 647s 576ms/step - loss: 0.0170 - accuracy: 0.9955 - val_loss: 0.0343 - val_accuracy: 0.9913\n",
            "Epoch 5/10\n",
            "1122/1122 [==============================] - ETA: 0s - loss: 0.0214 - accuracy: 0.9944\n",
            "Epoch 00005: val_loss did not improve from 0.03433\n",
            "1122/1122 [==============================] - 647s 576ms/step - loss: 0.0214 - accuracy: 0.9944 - val_loss: 0.0379 - val_accuracy: 0.9902\n",
            "Epoch 6/10\n",
            "1122/1122 [==============================] - ETA: 0s - loss: 0.0098 - accuracy: 0.9979\n",
            "Epoch 00006: val_loss did not improve from 0.03433\n",
            "1122/1122 [==============================] - 647s 577ms/step - loss: 0.0098 - accuracy: 0.9979 - val_loss: 0.0471 - val_accuracy: 0.9886\n",
            "Epoch 00006: early stopping\n"
          ],
          "name": "stdout"
        }
      ]
    },
    {
      "cell_type": "code",
      "metadata": {
        "colab_type": "code",
        "id": "KUyYHABTZ_65",
        "colab": {}
      },
      "source": [
        "def plot_train_history(history):\n",
        "    # Summarize history for accuracy\n",
        "    plt.plot(history.history['accuracy'])\n",
        "    plt.plot(history.history['val_accuracy'])\n",
        "    plt.title('Model accuracy')\n",
        "    plt.ylabel('accuracy')\n",
        "    plt.xlabel('epoch')\n",
        "    plt.legend(['train', 'test'], loc='upper left')\n",
        "    plt.show()\n",
        "\n",
        "    # Summarize history for loss\n",
        "    plt.plot(history.history['loss'])\n",
        "    plt.plot(history.history['val_loss'])\n",
        "    plt.title('Model loss')\n",
        "    plt.ylabel('loss')\n",
        "    plt.xlabel('epoch')\n",
        "    plt.legend(['train', 'test'], loc='upper left')\n",
        "    plt.show()"
      ],
      "execution_count": null,
      "outputs": []
    },
    {
      "cell_type": "code",
      "metadata": {
        "colab_type": "code",
        "id": "Iv_QUr7dnunv",
        "colab": {}
      },
      "source": [
        "plot_train_history(history)\n"
      ],
      "execution_count": null,
      "outputs": []
    },
    {
      "cell_type": "code",
      "metadata": {
        "colab_type": "code",
        "id": "yEHok6TcTCsn",
        "colab": {}
      },
      "source": [
        "IMG_SHAPE = (IMAGE_SIZE, IMAGE_SIZE, 3)\n",
        "\n",
        "mobnet = tf.keras.applications.MobileNet(input_shape=IMG_SHAPE,\n",
        "                                        include_top=False, \n",
        "                                         weights='imagenet')\n",
        "mobnet.trainable=False"
      ],
      "execution_count": null,
      "outputs": []
    },
    {
      "cell_type": "code",
      "metadata": {
        "id": "HjGLAXa3q9n6",
        "colab_type": "code",
        "colab": {}
      },
      "source": [
        "model2 = tf.keras.Sequential([\n",
        "  mobnet,\n",
        "  tf.keras.layers.Conv2D(1024, 3, activation='relu'),\n",
        "  tf.keras.layers.Dropout(0.2),\n",
        "  tf.keras.layers.GlobalAveragePooling2D(),\n",
        "  tf.keras.layers.Dense(10, activation='softmax')\n",
        "])"
      ],
      "execution_count": null,
      "outputs": []
    },
    {
      "cell_type": "code",
      "metadata": {
        "id": "49wXHVogq9n8",
        "colab_type": "code",
        "colab": {
          "base_uri": "https://localhost:8080/",
          "height": 319
        },
        "outputId": "ad59b6ea-9887-40a2-f85a-bcd292360591"
      },
      "source": [
        "checkpointer = tf.keras.callbacks.ModelCheckpoint('mobnet_wo_ft.hdf5', verbose=1, save_best_only=True)\n",
        "earlystop = EarlyStopping(monitor='val_accuracy', patience=10, verbose=1)\n",
        "model2.compile(optimizer=tf.keras.optimizers.Adam(1e-5), \n",
        "              loss='categorical_crossentropy', \n",
        "              metrics=['accuracy'])\n",
        "model2.summary()"
      ],
      "execution_count": null,
      "outputs": [
        {
          "output_type": "stream",
          "text": [
            "Model: \"sequential_1\"\n",
            "_________________________________________________________________\n",
            "Layer (type)                 Output Shape              Param #   \n",
            "=================================================================\n",
            "mobilenet_1.00_224 (Model)   (None, 7, 7, 1024)        3228864   \n",
            "_________________________________________________________________\n",
            "conv2d_1 (Conv2D)            (None, 5, 5, 1024)        9438208   \n",
            "_________________________________________________________________\n",
            "dropout (Dropout)            (None, 5, 5, 1024)        0         \n",
            "_________________________________________________________________\n",
            "global_average_pooling2d_1 ( (None, 1024)              0         \n",
            "_________________________________________________________________\n",
            "dense_1 (Dense)              (None, 10)                10250     \n",
            "=================================================================\n",
            "Total params: 12,677,322\n",
            "Trainable params: 9,448,458\n",
            "Non-trainable params: 3,228,864\n",
            "_________________________________________________________________\n"
          ],
          "name": "stdout"
        }
      ]
    },
    {
      "cell_type": "code",
      "metadata": {
        "id": "nlLaeVi-q9n_",
        "colab_type": "code",
        "colab": {
          "base_uri": "https://localhost:8080/",
          "height": 1000
        },
        "outputId": "88305e2a-b6b2-4d64-f8f6-0e51a76d47e8"
      },
      "source": [
        "history1 = model2.fit(train_generator, \n",
        "                    steps_per_epoch=len(train_generator), \n",
        "                    epochs=20, \n",
        "                    validation_data=val_generator, \n",
        "                    validation_steps=len(val_generator),callbacks=[checkpointer,earlystop])"
      ],
      "execution_count": null,
      "outputs": [
        {
          "output_type": "stream",
          "text": [
            "Epoch 1/20\n",
            "18/18 [==============================] - ETA: 0s - loss: 2.1284 - accuracy: 0.2590\n",
            "Epoch 00001: val_loss improved from inf to 1.70397, saving model to mobnet_wo_ft.hdf5\n",
            "18/18 [==============================] - 114s 6s/step - loss: 2.1284 - accuracy: 0.2590 - val_loss: 1.7040 - val_accuracy: 0.5334\n",
            "Epoch 2/20\n",
            "18/18 [==============================] - ETA: 0s - loss: 1.4415 - accuracy: 0.6459\n",
            "Epoch 00002: val_loss improved from 1.70397 to 1.16224, saving model to mobnet_wo_ft.hdf5\n",
            "18/18 [==============================] - 111s 6s/step - loss: 1.4415 - accuracy: 0.6459 - val_loss: 1.1622 - val_accuracy: 0.7797\n",
            "Epoch 3/20\n",
            "18/18 [==============================] - ETA: 0s - loss: 0.9861 - accuracy: 0.8163\n",
            "Epoch 00003: val_loss improved from 1.16224 to 0.80263, saving model to mobnet_wo_ft.hdf5\n",
            "18/18 [==============================] - 112s 6s/step - loss: 0.9861 - accuracy: 0.8163 - val_loss: 0.8026 - val_accuracy: 0.8748\n",
            "Epoch 4/20\n",
            "18/18 [==============================] - ETA: 0s - loss: 0.6914 - accuracy: 0.8879\n",
            "Epoch 00004: val_loss improved from 0.80263 to 0.57967, saving model to mobnet_wo_ft.hdf5\n",
            "18/18 [==============================] - 112s 6s/step - loss: 0.6914 - accuracy: 0.8879 - val_loss: 0.5797 - val_accuracy: 0.9139\n",
            "Epoch 5/20\n",
            "18/18 [==============================] - ETA: 0s - loss: 0.5100 - accuracy: 0.9189\n",
            "Epoch 00005: val_loss improved from 0.57967 to 0.44436, saving model to mobnet_wo_ft.hdf5\n",
            "18/18 [==============================] - 114s 6s/step - loss: 0.5100 - accuracy: 0.9189 - val_loss: 0.4444 - val_accuracy: 0.9355\n",
            "Epoch 6/20\n",
            "18/18 [==============================] - ETA: 0s - loss: 0.3982 - accuracy: 0.9380\n",
            "Epoch 00006: val_loss improved from 0.44436 to 0.35602, saving model to mobnet_wo_ft.hdf5\n",
            "18/18 [==============================] - 111s 6s/step - loss: 0.3982 - accuracy: 0.9380 - val_loss: 0.3560 - val_accuracy: 0.9502\n",
            "Epoch 7/20\n",
            "18/18 [==============================] - ETA: 0s - loss: 0.3256 - accuracy: 0.9505\n",
            "Epoch 00007: val_loss improved from 0.35602 to 0.29663, saving model to mobnet_wo_ft.hdf5\n",
            "18/18 [==============================] - 111s 6s/step - loss: 0.3256 - accuracy: 0.9505 - val_loss: 0.2966 - val_accuracy: 0.9545\n",
            "Epoch 8/20\n",
            "18/18 [==============================] - ETA: 0s - loss: 0.2724 - accuracy: 0.9584\n",
            "Epoch 00008: val_loss improved from 0.29663 to 0.25619, saving model to mobnet_wo_ft.hdf5\n",
            "18/18 [==============================] - 111s 6s/step - loss: 0.2724 - accuracy: 0.9584 - val_loss: 0.2562 - val_accuracy: 0.9616\n",
            "Epoch 9/20\n",
            "18/18 [==============================] - ETA: 0s - loss: 0.2356 - accuracy: 0.9632\n",
            "Epoch 00009: val_loss improved from 0.25619 to 0.22382, saving model to mobnet_wo_ft.hdf5\n",
            "18/18 [==============================] - 111s 6s/step - loss: 0.2356 - accuracy: 0.9632 - val_loss: 0.2238 - val_accuracy: 0.9663\n",
            "Epoch 10/20\n",
            "18/18 [==============================] - ETA: 0s - loss: 0.2058 - accuracy: 0.9677\n",
            "Epoch 00010: val_loss improved from 0.22382 to 0.19973, saving model to mobnet_wo_ft.hdf5\n",
            "18/18 [==============================] - 111s 6s/step - loss: 0.2058 - accuracy: 0.9677 - val_loss: 0.1997 - val_accuracy: 0.9670\n",
            "Epoch 11/20\n",
            "18/18 [==============================] - ETA: 0s - loss: 0.1826 - accuracy: 0.9724\n",
            "Epoch 00011: val_loss improved from 0.19973 to 0.18177, saving model to mobnet_wo_ft.hdf5\n",
            "18/18 [==============================] - 111s 6s/step - loss: 0.1826 - accuracy: 0.9724 - val_loss: 0.1818 - val_accuracy: 0.9710\n",
            "Epoch 12/20\n",
            "18/18 [==============================] - ETA: 0s - loss: 0.1653 - accuracy: 0.9740\n",
            "Epoch 00012: val_loss improved from 0.18177 to 0.16512, saving model to mobnet_wo_ft.hdf5\n",
            "18/18 [==============================] - 109s 6s/step - loss: 0.1653 - accuracy: 0.9740 - val_loss: 0.1651 - val_accuracy: 0.9730\n",
            "Epoch 13/20\n",
            "18/18 [==============================] - ETA: 0s - loss: 0.1484 - accuracy: 0.9778\n",
            "Epoch 00013: val_loss improved from 0.16512 to 0.15210, saving model to mobnet_wo_ft.hdf5\n",
            "18/18 [==============================] - 110s 6s/step - loss: 0.1484 - accuracy: 0.9778 - val_loss: 0.1521 - val_accuracy: 0.9752\n",
            "Epoch 14/20\n",
            "18/18 [==============================] - ETA: 0s - loss: 0.1375 - accuracy: 0.9782\n",
            "Epoch 00014: val_loss improved from 0.15210 to 0.14175, saving model to mobnet_wo_ft.hdf5\n",
            "18/18 [==============================] - 113s 6s/step - loss: 0.1375 - accuracy: 0.9782 - val_loss: 0.1418 - val_accuracy: 0.9768\n",
            "Epoch 15/20\n",
            "18/18 [==============================] - ETA: 0s - loss: 0.1261 - accuracy: 0.9810\n",
            "Epoch 00015: val_loss improved from 0.14175 to 0.13276, saving model to mobnet_wo_ft.hdf5\n",
            "18/18 [==============================] - 111s 6s/step - loss: 0.1261 - accuracy: 0.9810 - val_loss: 0.1328 - val_accuracy: 0.9772\n",
            "Epoch 16/20\n",
            "18/18 [==============================] - ETA: 0s - loss: 0.1176 - accuracy: 0.9815\n",
            "Epoch 00016: val_loss improved from 0.13276 to 0.12583, saving model to mobnet_wo_ft.hdf5\n",
            "18/18 [==============================] - 112s 6s/step - loss: 0.1176 - accuracy: 0.9815 - val_loss: 0.1258 - val_accuracy: 0.9772\n",
            "Epoch 17/20\n",
            "18/18 [==============================] - ETA: 0s - loss: 0.1085 - accuracy: 0.9840\n",
            "Epoch 00017: val_loss improved from 0.12583 to 0.11879, saving model to mobnet_wo_ft.hdf5\n",
            "18/18 [==============================] - 111s 6s/step - loss: 0.1085 - accuracy: 0.9840 - val_loss: 0.1188 - val_accuracy: 0.9790\n",
            "Epoch 18/20\n",
            "18/18 [==============================] - ETA: 0s - loss: 0.1007 - accuracy: 0.9861\n",
            "Epoch 00018: val_loss improved from 0.11879 to 0.11090, saving model to mobnet_wo_ft.hdf5\n",
            "18/18 [==============================] - 112s 6s/step - loss: 0.1007 - accuracy: 0.9861 - val_loss: 0.1109 - val_accuracy: 0.9797\n",
            "Epoch 19/20\n",
            "18/18 [==============================] - ETA: 0s - loss: 0.0940 - accuracy: 0.9866\n",
            "Epoch 00019: val_loss improved from 0.11090 to 0.10758, saving model to mobnet_wo_ft.hdf5\n",
            "18/18 [==============================] - 112s 6s/step - loss: 0.0940 - accuracy: 0.9866 - val_loss: 0.1076 - val_accuracy: 0.9795\n",
            "Epoch 20/20\n",
            "18/18 [==============================] - ETA: 0s - loss: 0.0888 - accuracy: 0.9876\n",
            "Epoch 00020: val_loss improved from 0.10758 to 0.10073, saving model to mobnet_wo_ft.hdf5\n",
            "18/18 [==============================] - 116s 6s/step - loss: 0.0888 - accuracy: 0.9876 - val_loss: 0.1007 - val_accuracy: 0.9815\n"
          ],
          "name": "stdout"
        }
      ]
    },
    {
      "cell_type": "code",
      "metadata": {
        "id": "tYEyJdmZq9oB",
        "colab_type": "code",
        "colab": {}
      },
      "source": [
        "def plot_train_history(history1):\n",
        "    # Summarize history for accuracy\n",
        "    plt.plot(history.history['accuracy'])\n",
        "    plt.plot(history.history['val_accuracy'])\n",
        "    plt.title('Model accuracy')\n",
        "    plt.ylabel('accuracy')\n",
        "    plt.xlabel('epoch')\n",
        "    plt.legend(['train', 'test'], loc='upper left')\n",
        "    plt.show()\n",
        "\n",
        "    # Summarize history for loss\n",
        "    plt.plot(history.history['loss'])\n",
        "    plt.plot(history.history['val_loss'])\n",
        "    plt.title('Model loss')\n",
        "    plt.ylabel('loss')\n",
        "    plt.xlabel('epoch')\n",
        "    plt.legend(['train', 'test'], loc='upper left')\n",
        "    plt.show()"
      ],
      "execution_count": null,
      "outputs": []
    },
    {
      "cell_type": "code",
      "metadata": {
        "id": "IvQ8AYycApFe",
        "colab_type": "code",
        "colab": {
          "base_uri": "https://localhost:8080/",
          "height": 573
        },
        "outputId": "106c30a4-4074-4eeb-f698-41757774a9b7"
      },
      "source": [
        "plot_train_history(history)\n"
      ],
      "execution_count": null,
      "outputs": [
        {
          "output_type": "display_data",
          "data": {
            "image/png": "[encoded data removed]",
            "text/plain": [
              "<Figure size 432x288 with 1 Axes>"
            ]
          },
          "metadata": {
            "tags": [],
            "needs_background": "light"
          }
        },
        {
          "output_type": "display_data",
          "data": {
            "image/png": "[encoded data removed]",
            "text/plain": [
              "<Figure size 432x288 with 1 Axes>"
            ]
          },
          "metadata": {
            "tags": [],
            "needs_background": "light"
          }
        }
      ]
    },
    {
      "cell_type": "code",
      "metadata": {
        "id": "zN7DBdzEq9oU",
        "colab_type": "code",
        "colab": {}
      },
      "source": [
        "model=tf.keras.models.load_model(\"./mobnet_wo_ft.hdf5\")\n",
        "converter = tf.lite.TFLiteConverter.from_keras_model(model)\n",
        "converter.experimental_new_converter = True\n",
        "tflite_model = converter.convert()\n",
        "open(\"converted_model.tflite\", \"wb\").write(tflite_model)  "
      ],
      "execution_count": null,
      "outputs": []
    }
  ]
}