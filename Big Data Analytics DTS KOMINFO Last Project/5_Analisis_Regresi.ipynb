{
  "nbformat": 4,
  "nbformat_minor": 0,
  "metadata": {
    "kernelspec": {
      "display_name": "Python 3",
      "language": "python",
      "name": "python3"
    },
    "language_info": {
      "codemirror_mode": {
        "name": "ipython",
        "version": 3
      },
      "file_extension": ".py",
      "mimetype": "text/x-python",
      "name": "python",
      "nbconvert_exporter": "python",
      "pygments_lexer": "ipython3",
      "version": "3.7.4"
    },
    "colab": {
      "name": "5 Analisis Regresi.ipynb",
      "provenance": []
    }
  },
  "cells": [
    {
      "cell_type": "markdown",
      "metadata": {
        "id": "IFP0wixM8nMz"
      },
      "source": [
        "## Analisis Model Regresi"
      ]
    },
    {
      "cell_type": "code",
      "metadata": {
        "id": "DX4YbHVG8nM1",
        "outputId": "720b78be-6d13-43f7-807f-6f9c1ed152a3"
      },
      "source": [
        "import matplotlib\n",
        "import pandas as pd\n",
        "import matplotlib.pyplot as plt\n",
        "import numpy as np\n",
        "import statsmodels.api as sm\n",
        "from scipy.optimize import curve_fit\n",
        "from pandas import DataFrame, read_csv\n",
        "import seaborn as sns\n",
        "from sklearn.linear_model import LinearRegression\n",
        "from sklearn import metrics\n",
        "databersih=pd.read_csv('databersih.csv')"
      ],
      "execution_count": null,
      "outputs": [
        {
          "output_type": "stream",
          "text": [
            "C:\\Users\\Joko\\Anaconda3\\lib\\site-packages\\IPython\\core\\interactiveshell.py:3058: DtypeWarning: Columns (6) have mixed types. Specify dtype option on import or set low_memory=False.\n",
            "  interactivity=interactivity, compiler=compiler, result=result)\n"
          ],
          "name": "stderr"
        }
      ]
    },
    {
      "cell_type": "code",
      "metadata": {
        "id": "4XjNbq7j8nM5",
        "outputId": "33e1ff67-2f9c-4614-d7bf-73371389209c"
      },
      "source": [
        "databersih.head()"
      ],
      "execution_count": null,
      "outputs": [
        {
          "output_type": "execute_result",
          "data": {
            "text/html": [
              "<div>\n",
              "<style scoped>\n",
              "    .dataframe tbody tr th:only-of-type {\n",
              "        vertical-align: middle;\n",
              "    }\n",
              "\n",
              "    .dataframe tbody tr th {\n",
              "        vertical-align: top;\n",
              "    }\n",
              "\n",
              "    .dataframe thead th {\n",
              "        text-align: right;\n",
              "    }\n",
              "</style>\n",
              "<table border=\"1\" class=\"dataframe\">\n",
              "  <thead>\n",
              "    <tr style=\"text-align: right;\">\n",
              "      <th></th>\n",
              "      <th>Unnamed: 0</th>\n",
              "      <th>Year Type</th>\n",
              "      <th>Year</th>\n",
              "      <th>Organization Group Code</th>\n",
              "      <th>Organization Group</th>\n",
              "      <th>Department Code</th>\n",
              "      <th>Department</th>\n",
              "      <th>Union Code</th>\n",
              "      <th>Union</th>\n",
              "      <th>Job Family Code</th>\n",
              "      <th>...</th>\n",
              "      <th>Employee Identifier</th>\n",
              "      <th>salaries</th>\n",
              "      <th>overtime</th>\n",
              "      <th>retirement</th>\n",
              "      <th>other salaries</th>\n",
              "      <th>total salary</th>\n",
              "      <th>health and dental</th>\n",
              "      <th>other benefits</th>\n",
              "      <th>total benefits</th>\n",
              "      <th>total compensation</th>\n",
              "    </tr>\n",
              "  </thead>\n",
              "  <tbody>\n",
              "    <tr>\n",
              "      <td>0</td>\n",
              "      <td>0</td>\n",
              "      <td>Calendar</td>\n",
              "      <td>2028</td>\n",
              "      <td>7</td>\n",
              "      <td>General City Responsibilities</td>\n",
              "      <td>229259</td>\n",
              "      <td>NaN</td>\n",
              "      <td>792.0</td>\n",
              "      <td>Utd Pub EmpL790 SEIU-Crt Clrks</td>\n",
              "      <td>0000</td>\n",
              "      <td>...</td>\n",
              "      <td>8540990</td>\n",
              "      <td>674.28</td>\n",
              "      <td>0.00</td>\n",
              "      <td>130.91</td>\n",
              "      <td>5.76</td>\n",
              "      <td>680.04</td>\n",
              "      <td>0.00</td>\n",
              "      <td>53.86</td>\n",
              "      <td>184.77</td>\n",
              "      <td>864.81</td>\n",
              "    </tr>\n",
              "    <tr>\n",
              "      <td>1</td>\n",
              "      <td>1</td>\n",
              "      <td>Calendar</td>\n",
              "      <td>2028</td>\n",
              "      <td>1</td>\n",
              "      <td>Public Protection</td>\n",
              "      <td>CRT</td>\n",
              "      <td>NaN</td>\n",
              "      <td>792.0</td>\n",
              "      <td>Utd Pub EmpL790 SEIU-Crt Clrks</td>\n",
              "      <td>0000</td>\n",
              "      <td>...</td>\n",
              "      <td>8540990</td>\n",
              "      <td>674.28</td>\n",
              "      <td>0.00</td>\n",
              "      <td>130.91</td>\n",
              "      <td>5.76</td>\n",
              "      <td>680.04</td>\n",
              "      <td>0.00</td>\n",
              "      <td>53.86</td>\n",
              "      <td>184.77</td>\n",
              "      <td>864.81</td>\n",
              "    </tr>\n",
              "    <tr>\n",
              "      <td>2</td>\n",
              "      <td>2</td>\n",
              "      <td>Fiscal</td>\n",
              "      <td>2028</td>\n",
              "      <td>1</td>\n",
              "      <td>Public Protection</td>\n",
              "      <td>CRT</td>\n",
              "      <td>NaN</td>\n",
              "      <td>792.0</td>\n",
              "      <td>Utd Pub EmpL790 SEIU-Crt Clrks</td>\n",
              "      <td>0000</td>\n",
              "      <td>...</td>\n",
              "      <td>8540990</td>\n",
              "      <td>674.28</td>\n",
              "      <td>0.00</td>\n",
              "      <td>130.91</td>\n",
              "      <td>5.76</td>\n",
              "      <td>680.04</td>\n",
              "      <td>0.00</td>\n",
              "      <td>53.86</td>\n",
              "      <td>184.77</td>\n",
              "      <td>864.81</td>\n",
              "    </tr>\n",
              "    <tr>\n",
              "      <td>3</td>\n",
              "      <td>14</td>\n",
              "      <td>Calendar</td>\n",
              "      <td>2019</td>\n",
              "      <td>7</td>\n",
              "      <td>General City Responsibilities</td>\n",
              "      <td>229975</td>\n",
              "      <td>NaN</td>\n",
              "      <td>21.0</td>\n",
              "      <td>Prof &amp; Tech Eng, Local 21</td>\n",
              "      <td>5200</td>\n",
              "      <td>...</td>\n",
              "      <td>8554750</td>\n",
              "      <td>45425.24</td>\n",
              "      <td>0.00</td>\n",
              "      <td>8697.41</td>\n",
              "      <td>0.00</td>\n",
              "      <td>45425.24</td>\n",
              "      <td>5961.80</td>\n",
              "      <td>3662.72</td>\n",
              "      <td>28367.11</td>\n",
              "      <td>73792.35</td>\n",
              "    </tr>\n",
              "    <tr>\n",
              "      <td>4</td>\n",
              "      <td>113</td>\n",
              "      <td>Calendar</td>\n",
              "      <td>2019</td>\n",
              "      <td>1</td>\n",
              "      <td>Public Protection</td>\n",
              "      <td>SHF</td>\n",
              "      <td>NaN</td>\n",
              "      <td>498.0</td>\n",
              "      <td>Deputy Sheriffs' Assoc (DSA)</td>\n",
              "      <td>8300</td>\n",
              "      <td>...</td>\n",
              "      <td>8526939</td>\n",
              "      <td>107001.55</td>\n",
              "      <td>24209.84</td>\n",
              "      <td>38605.39</td>\n",
              "      <td>10059.98</td>\n",
              "      <td>141271.37</td>\n",
              "      <td>14308.44</td>\n",
              "      <td>2318.24</td>\n",
              "      <td>69852.19</td>\n",
              "      <td>211123.56</td>\n",
              "    </tr>\n",
              "  </tbody>\n",
              "</table>\n",
              "<p>5 rows × 23 columns</p>\n",
              "</div>"
            ],
            "text/plain": [
              "   Unnamed: 0 Year Type  Year  Organization Group Code  \\\n",
              "0           0  Calendar  2028                        7   \n",
              "1           1  Calendar  2028                        1   \n",
              "2           2    Fiscal  2028                        1   \n",
              "3          14  Calendar  2019                        7   \n",
              "4         113  Calendar  2019                        1   \n",
              "\n",
              "              Organization Group Department Code Department  Union Code  \\\n",
              "0  General City Responsibilities          229259        NaN       792.0   \n",
              "1              Public Protection             CRT        NaN       792.0   \n",
              "2              Public Protection             CRT        NaN       792.0   \n",
              "3  General City Responsibilities          229975        NaN        21.0   \n",
              "4              Public Protection             SHF        NaN       498.0   \n",
              "\n",
              "                            Union Job Family Code  ... Employee Identifier  \\\n",
              "0  Utd Pub EmpL790 SEIU-Crt Clrks            0000  ...             8540990   \n",
              "1  Utd Pub EmpL790 SEIU-Crt Clrks            0000  ...             8540990   \n",
              "2  Utd Pub EmpL790 SEIU-Crt Clrks            0000  ...             8540990   \n",
              "3       Prof & Tech Eng, Local 21            5200  ...             8554750   \n",
              "4    Deputy Sheriffs' Assoc (DSA)            8300  ...             8526939   \n",
              "\n",
              "    salaries  overtime  retirement  other salaries  total salary  \\\n",
              "0     674.28      0.00      130.91            5.76        680.04   \n",
              "1     674.28      0.00      130.91            5.76        680.04   \n",
              "2     674.28      0.00      130.91            5.76        680.04   \n",
              "3   45425.24      0.00     8697.41            0.00      45425.24   \n",
              "4  107001.55  24209.84    38605.39        10059.98     141271.37   \n",
              "\n",
              "   health and dental  other benefits  total benefits  total compensation  \n",
              "0               0.00           53.86          184.77              864.81  \n",
              "1               0.00           53.86          184.77              864.81  \n",
              "2               0.00           53.86          184.77              864.81  \n",
              "3            5961.80         3662.72        28367.11            73792.35  \n",
              "4           14308.44         2318.24        69852.19           211123.56  \n",
              "\n",
              "[5 rows x 23 columns]"
            ]
          },
          "metadata": {
            "tags": []
          },
          "execution_count": 12
        }
      ]
    },
    {
      "cell_type": "code",
      "metadata": {
        "id": "QgcJ81oE8nM6",
        "outputId": "90631961-927c-4d52-a9cb-d060a027594e"
      },
      "source": [
        "print(databersih)"
      ],
      "execution_count": null,
      "outputs": [
        {
          "output_type": "stream",
          "text": [
            "        Unnamed: 0 Year Type  Year  Organization Group Code  \\\n",
            "0                0  Calendar  2028                        7   \n",
            "1                1  Calendar  2028                        1   \n",
            "2                2    Fiscal  2028                        1   \n",
            "3               14  Calendar  2019                        7   \n",
            "4              113  Calendar  2019                        1   \n",
            "...            ...       ...   ...                      ...   \n",
            "280105      835301    Fiscal  2013                        2   \n",
            "280106      835302    Fiscal  2013                        6   \n",
            "280107      835303    Fiscal  2013                        5   \n",
            "280108      835304    Fiscal  2013                        2   \n",
            "280109      835306    Fiscal  2013                        2   \n",
            "\n",
            "                             Organization Group Department Code  \\\n",
            "0                 General City Responsibilities          229259   \n",
            "1                             Public Protection             CRT   \n",
            "2                             Public Protection             CRT   \n",
            "3                 General City Responsibilities          229975   \n",
            "4                             Public Protection             SHF   \n",
            "...                                         ...             ...   \n",
            "280105  Public Works, Transportation & Commerce             AIR   \n",
            "280106         General Administration & Finance             ASR   \n",
            "280107                     Culture & Recreation             REC   \n",
            "280108  Public Works, Transportation & Commerce             MTA   \n",
            "280109  Public Works, Transportation & Commerce             DBI   \n",
            "\n",
            "                           Department  Union Code  \\\n",
            "0                                 NaN       792.0   \n",
            "1                                 NaN       792.0   \n",
            "2                                 NaN       792.0   \n",
            "3                                 NaN        21.0   \n",
            "4                                 NaN       498.0   \n",
            "...                               ...         ...   \n",
            "280105         AIR Airport Commission       790.0   \n",
            "280106        ASR Assessor / Recorder       790.0   \n",
            "280107   REC Recreation & Park Commsn       790.0   \n",
            "280108  MTA Municipal Transprtn Agncy         6.0   \n",
            "280109        DBI Building Inspection        38.0   \n",
            "\n",
            "                                     Union Job Family Code  ...  \\\n",
            "0           Utd Pub EmpL790 SEIU-Crt Clrks            0000  ...   \n",
            "1           Utd Pub EmpL790 SEIU-Crt Clrks            0000  ...   \n",
            "2           Utd Pub EmpL790 SEIU-Crt Clrks            0000  ...   \n",
            "3                Prof & Tech Eng, Local 21            5200  ...   \n",
            "4             Deputy Sheriffs' Assoc (DSA)            8300  ...   \n",
            "...                                    ...             ...  ...   \n",
            "280105    SEIU - Miscellaneous, Local 1021            2700  ...   \n",
            "280106    SEIU - Miscellaneous, Local 1021            4200  ...   \n",
            "280107    SEIU - Miscellaneous, Local 1021            2700  ...   \n",
            "280108         Electrical Workers, Local 6            7300  ...   \n",
            "280109  Plumbers and Pipefitters, Local 38            6200  ...   \n",
            "\n",
            "       Employee Identifier   salaries  overtime  retirement  other salaries  \\\n",
            "0                  8540990     674.28      0.00      130.91            5.76   \n",
            "1                  8540990     674.28      0.00      130.91            5.76   \n",
            "2                  8540990     674.28      0.00      130.91            5.76   \n",
            "3                  8554750   45425.24      0.00     8697.41            0.00   \n",
            "4                  8526939  107001.55  24209.84    38605.39        10059.98   \n",
            "...                    ...        ...       ...         ...             ...   \n",
            "280105               20179    9838.98      0.00     2002.93         2753.37   \n",
            "280106               48952   36053.00    263.48     6633.07          372.00   \n",
            "280107               54963   53192.12      0.00     9771.30          467.16   \n",
            "280108               31177   65876.00    997.34    13015.46        23411.95   \n",
            "280109               40949  105742.01    315.20    19663.52         5288.35   \n",
            "\n",
            "        total salary  health and dental  other benefits  total benefits  \\\n",
            "0             680.04               0.00           53.86          184.77   \n",
            "1             680.04               0.00           53.86          184.77   \n",
            "2             680.04               0.00           53.86          184.77   \n",
            "3           45425.24            5961.80         3662.72        28367.11   \n",
            "4          141271.37           14308.44         2318.24        69852.19   \n",
            "...              ...                ...             ...             ...   \n",
            "280105      12592.35            2377.07         1068.12         5448.12   \n",
            "280106      36688.48            7631.83         3001.15        17266.05   \n",
            "280107      53659.28           12851.02         4482.69        27105.01   \n",
            "280108      90285.29           10586.09         7360.81        30962.36   \n",
            "280109     111345.56           12801.79         9283.02        41748.33   \n",
            "\n",
            "        total compensation  \n",
            "0                   864.81  \n",
            "1                   864.81  \n",
            "2                   864.81  \n",
            "3                 73792.35  \n",
            "4                211123.56  \n",
            "...                    ...  \n",
            "280105            18040.47  \n",
            "280106            53954.53  \n",
            "280107            80764.29  \n",
            "280108           121247.65  \n",
            "280109           153093.89  \n",
            "\n",
            "[280110 rows x 23 columns]\n"
          ],
          "name": "stdout"
        }
      ]
    },
    {
      "cell_type": "markdown",
      "metadata": {
        "id": "UE_nPu1E8nM8"
      },
      "source": [
        "### Scatter Plot antara Gaji Keseluruhan dan Kompensasi Keseluruhan¶"
      ]
    },
    {
      "cell_type": "code",
      "metadata": {
        "id": "nIE2xKFm8nM9",
        "outputId": "e55d9484-d752-4261-a5ef-c43ebd72b368"
      },
      "source": [
        "import matplotlib.pyplot as plt\n",
        "import numpy as np\n",
        "\n",
        "#Menentukan ukuran gambar\n",
        "plt.figure(figsize=(12,8))\n",
        "#Ploting\n",
        "plt.title('Gaji VS Kompensasi', fontdict={'fontweight':'bold', 'fontsize': 18})\n",
        "\n",
        "plt.scatter(databersih['total salary'], databersih['total compensation'])\n",
        "\n",
        "plt.xlabel('Gaji')\n",
        "plt.ylabel('Kompensasi')\n",
        "\n",
        "plt.savefig('Gaji VS Kompensasi.png', dpi=300)\n",
        "\n",
        "plt.show()"
      ],
      "execution_count": null,
      "outputs": [
        {
          "output_type": "display_data",
          "data": {
            "image/png": "[encoded data removed]",
            "text/plain": [
              "<Figure size 864x576 with 1 Axes>"
            ]
          },
          "metadata": {
            "tags": [],
            "needs_background": "light"
          }
        }
      ]
    },
    {
      "cell_type": "markdown",
      "metadata": {
        "id": "Oy6PyjB38nM-"
      },
      "source": [
        "### Problem Statement:\n",
        "Berdasarkan hasil plot di atas nampak bahwa Total Kompensasi sangat dipengaruhi oleh Total Gaji, dengan derajat korelasi yaitu 0.991156. Menarik untuk meneliti lebih lanjut, apakah data ini memenuhi persamaan regresi linier atau non linier. Berapa besar keakuratan model, dan model mana yang terbaik. Berikut analisisnya:"
      ]
    },
    {
      "cell_type": "markdown",
      "metadata": {
        "id": "6kwWxz5O8nM_"
      },
      "source": [
        "### Regresi Linier "
      ]
    },
    {
      "cell_type": "code",
      "metadata": {
        "id": "jCm1WPFf8nNA",
        "outputId": "2b516ea3-c14e-45fb-a479-8a91de0f18c3"
      },
      "source": [
        "import matplotlib.pyplot as plt\n",
        "import numpy as np\n",
        "from sklearn import datasets, linear_model\n",
        "from sklearn.metrics import mean_squared_error, r2_score\n",
        "\n",
        "plt.figure(figsize=(12,8))\n",
        "\n",
        "#Mendefinisikan variabel X dan Y\n",
        "X=np.array(databersih['total salary']).reshape((-1,1))\n",
        "Y=np.array(databersih['total compensation'])\n",
        "\n",
        "#Memecah data x menjadi data latih dan data uji\n",
        "X_latih=X[:200000]\n",
        "X_uji=X[-80110:]\n",
        "\n",
        "#Memecah data y menjadi data latih dan data uji\n",
        "Y_latih=Y[:200000]\n",
        "Y_uji=Y[-80110:]\n",
        "\n",
        "#Membuat model regresi linier\n",
        "regr = linear_model.LinearRegression()\n",
        "\n",
        "#Memfiting data latih ke dalam model regresi linier\n",
        "regr.fit(X_latih,Y_latih)\n",
        "\n",
        "#Hasil prediksi nilai y berdasarkan model regresi linier\n",
        "Y_pred= regr.predict(X_latih)\n",
        "\n",
        "#Mencetak parameter model regresi linier\n",
        "print('Model Regresi Linier y=b0+b1x')\n",
        "print('b1', regr.coef_)\n",
        "print('b0', regr.intercept_)\n",
        "\n",
        "#Mencetak koefisien determinasi model regresi linier\n",
        "r_sq=regr.score(X_latih,Y_latih)\n",
        "print('Koefisien determinasi', r_sq)\n",
        "\n",
        "#Plot data dan model\n",
        "plt.scatter(X_latih, Y_latih,  color='blue')\n",
        "plt.plot(X_latih, Y_pred, color='red', linewidth=3)\n",
        "\n",
        "plt.title('P. Reg. Gaji VS Kompensasi')\n",
        "plt.xlabel('Gaji')\n",
        "plt.ylabel('Kompensasi')\n",
        "plt.ylim(0,)\n",
        "plt.savefig('Pers Regresi Gaji VS Kompensasi.png', dpi=300)\n",
        "\n",
        "plt.show()"
      ],
      "execution_count": null,
      "outputs": [
        {
          "output_type": "stream",
          "text": [
            "Model Regresi Linier y=b0+b1x\n",
            "b1 [1.31092117]\n",
            "b0 4822.817684343172\n",
            "Koefisien determinasi 0.9857000081758066\n"
          ],
          "name": "stdout"
        },
        {
          "output_type": "display_data",
          "data": {
            "image/png": "[encoded data removed]",
            "text/plain": [
              "<Figure size 864x576 with 1 Axes>"
            ]
          },
          "metadata": {
            "tags": [],
            "needs_background": "light"
          }
        }
      ]
    },
    {
      "cell_type": "markdown",
      "metadata": {
        "id": "8XxXw9UK8nNB"
      },
      "source": [
        "### Catatan:\n",
        "Berdasarkan hasil di atas diperoleh persamaan regresi linear yaitu:\n",
        "y= 4822.817684343172 + 1.31092117x\n",
        "dengan \n",
        "x adalah variabel gaji keseluruhan\n",
        "y adalah variabel total kompensasi\n",
        "\n",
        "dari persamaan ini diketahui bahwa, ketika x=0 maka, seseorang dapat menghasilkan kompensasi sebesar 4822.817684343172 \n",
        "dan untuk setiap x yang diperoleh maka akan mendapatkan peningkatan sebesar 1.31092117x\n",
        "\n",
        "Tingkat kepercayaan dari persamaan regresi linier ini adalah 0.9857000081758066 atau 98,57%, artinya tingkat akurasi yang diberikan **sangat tinggi**.\n"
      ]
    },
    {
      "cell_type": "markdown",
      "metadata": {
        "id": "epS-xmoY8nNC"
      },
      "source": [
        "### Regresi Kuadratik"
      ]
    },
    {
      "cell_type": "code",
      "metadata": {
        "id": "Ws49h6ra8nNC",
        "outputId": "431fc766-9bb1-4c40-b057-517abfaf6d9f"
      },
      "source": [
        "datareg=databersih[['total compensation','total salary']]\n",
        "datareg['total salary square']=datareg['total salary']**2\n",
        "x =datareg[['total salary','total salary square']] \n",
        "y =datareg['total compensation']\n",
        " \n",
        "model=LinearRegression()\n",
        "model.fit(x,y)\n",
        "model=LinearRegression().fit(x,y)\n",
        "\n",
        "print('Intercept: \\n', model.intercept_)\n",
        "print('Coefficients: \\n', model.coef_)\n",
        "\n",
        "a=model.intercept_\n",
        "b=model.coef_[0]\n",
        "c=model.coef_[1]\n",
        "\n",
        "r_sq=model.score(x,y)\n",
        "print('Koefisien determinasi:', r_sq)\n",
        "\n",
        "x = sm.add_constant(x) # adding a constant\n",
        " \n",
        "model = sm.OLS(y, x).fit()\n",
        "predictions = model.predict(x) \n",
        " \n",
        "print_model = model.summary()\n",
        "print(print_model)\n",
        "X_latih=X_latih[:200000]\n",
        "X_latih2=X_latih**2\n",
        "Y_pred2=a+X_latih*b+X_latih2*c\n",
        "\n",
        "#Plot data dan model\n",
        "plt.figure(figsize=(12,8))\n",
        "Y_latih=np.array(Y_latih).reshape((-1,1))\n",
        "plt.scatter(X_latih, Y_latih,  color='blue')\n",
        "plt.scatter(X_latih, Y_pred2, color='red', linewidth=3)\n",
        "\n",
        "plt.title('P. Reg. Gaji VS Kompensasi')\n",
        "plt.xlabel('Gaji')\n",
        "plt.ylabel('Kompensasi')\n",
        "plt.ylim(0,)\n",
        "plt.savefig('Pers Regresi Gaji VS Kompensasi.png', dpi=300)\n",
        "\n",
        "plt.show()"
      ],
      "execution_count": null,
      "outputs": [
        {
          "output_type": "stream",
          "text": [
            "C:\\Users\\Joko\\Anaconda3\\lib\\site-packages\\ipykernel_launcher.py:2: SettingWithCopyWarning: \n",
            "A value is trying to be set on a copy of a slice from a DataFrame.\n",
            "Try using .loc[row_indexer,col_indexer] = value instead\n",
            "\n",
            "See the caveats in the documentation: http://pandas.pydata.org/pandas-docs/stable/user_guide/indexing.html#returning-a-view-versus-a-copy\n",
            "  \n"
          ],
          "name": "stderr"
        },
        {
          "output_type": "stream",
          "text": [
            "Intercept: \n",
            " 178.73098279250553\n",
            "Coefficients: \n",
            " [ 1.49305470e+00 -1.06767145e-06]\n",
            "Koefisien determinasi: 0.9898724620194947\n"
          ],
          "name": "stdout"
        },
        {
          "output_type": "stream",
          "text": [
            "C:\\Users\\Joko\\Anaconda3\\lib\\site-packages\\numpy\\core\\fromnumeric.py:2389: FutureWarning: Method .ptp is deprecated and will be removed in a future version. Use numpy.ptp instead.\n",
            "  return ptp(axis=axis, out=out, **kwargs)\n"
          ],
          "name": "stderr"
        },
        {
          "output_type": "stream",
          "text": [
            "                            OLS Regression Results                            \n",
            "==============================================================================\n",
            "Dep. Variable:     total compensation   R-squared:                       0.990\n",
            "Model:                            OLS   Adj. R-squared:                  0.990\n",
            "Method:                 Least Squares   F-statistic:                 1.369e+07\n",
            "Date:                Mon, 18 Nov 2019   Prob (F-statistic):               0.00\n",
            "Time:                        06:42:40   Log-Likelihood:            -2.8780e+06\n",
            "No. Observations:              280110   AIC:                         5.756e+06\n",
            "Df Residuals:                  280107   BIC:                         5.756e+06\n",
            "Df Model:                           2                                         \n",
            "Covariance Type:            nonrobust                                         \n",
            "=======================================================================================\n",
            "                          coef    std err          t      P>|t|      [0.025      0.975]\n",
            "---------------------------------------------------------------------------------------\n",
            "const                 178.7310     26.958      6.630      0.000     125.895     231.567\n",
            "total salary            1.4931      0.001   2299.801      0.000       1.492       1.494\n",
            "total salary square -1.068e-06   3.38e-09   -315.650      0.000   -1.07e-06   -1.06e-06\n",
            "==============================================================================\n",
            "Omnibus:                    80003.915   Durbin-Watson:                   1.611\n",
            "Prob(Omnibus):                  0.000   Jarque-Bera (JB):          6886290.704\n",
            "Skew:                           0.391   Prob(JB):                         0.00\n",
            "Kurtosis:                      27.278   Cond. No.                     2.59e+10\n",
            "==============================================================================\n",
            "\n",
            "Warnings:\n",
            "[1] Standard Errors assume that the covariance matrix of the errors is correctly specified.\n",
            "[2] The condition number is large, 2.59e+10. This might indicate that there are\n",
            "strong multicollinearity or other numerical problems.\n"
          ],
          "name": "stdout"
        },
        {
          "output_type": "display_data",
          "data": {
            "image/png": "[encoded data removed]",
            "text/plain": [
              "<Figure size 864x576 with 1 Axes>"
            ]
          },
          "metadata": {
            "tags": [],
            "needs_background": "light"
          }
        }
      ]
    },
    {
      "cell_type": "markdown",
      "metadata": {
        "id": "cCF1BWpR8nNE"
      },
      "source": [
        "### Catatan:\n",
        "Berdasarkan hasil di atas diperoleh persamaan regresi kuadratik yaitu:\n",
        "y=  178.7310 + 1.4931x + (-1.068e-06)x^2\n",
        "dengan \n",
        "x adalah variabel gaji keseluruhan\n",
        "y adalah variabel total kompensasi\n",
        "\n",
        "Dari persamaan ini diketahui bahwa, ketika x=0 maka, seseorang dapat menghasilkan kompensasi sebesar 178.7310\n",
        "dan untuk setiap x yang diperoleh maka akan mendapatkan peningkatan sebesar 1.4931x + (-1.068e-06)x^2\n",
        "\n",
        "Tingkat kepercayaan dari persamaan regresi linier ini adalah 0.990 atau 99%, artinya tingkat akurasi yang diberikan **sangat tinggi**.\n",
        "\n",
        "Nilai durbin watson pada persamaan ini adalah 1.611, yang berarti tingkat autokorelasi data adalah 1.611, semakin kecil nilai autokorelasi pada persamaan regresi semakin baik.\n"
      ]
    },
    {
      "cell_type": "code",
      "metadata": {
        "id": "4nthfQld8nNE",
        "outputId": "49636e83-38b5-4681-ee85-e66a8d59a848"
      },
      "source": [
        "datareg=databersih[['total compensation','total salary']]\n",
        "datareg['total salary square']=datareg['total salary']**2\n",
        "datareg['total salary third']=datareg['total salary']**3\n",
        "x =datareg[['total salary','total salary square','total salary third']] \n",
        "y =datareg['total compensation']\n",
        "\n",
        "model=LinearRegression()\n",
        "model.fit(x,y)\n",
        "model=LinearRegression().fit(x,y)\n",
        "\n",
        "print('Intercept: \\n', model.intercept_)\n",
        "print('Coefficients: \\n', model.coef_)\n",
        "\n",
        "a=model.intercept_\n",
        "b=model.coef_[0]\n",
        "c=model.coef_[1]\n",
        "d=model.coef_[2]\n",
        "\n",
        "r_sq=model.score(x,y)\n",
        "print('Koefisien determinasi:', r_sq)\n",
        "\n",
        "x = sm.add_constant(x) # adding a constant\n",
        " \n",
        "model = sm.OLS(y, x).fit()\n",
        "predictions = model.predict(x) \n",
        " \n",
        "print_model = model.summary()\n",
        "print(print_model)\n",
        "X_latih=X_latih[:200000]\n",
        "X_latih2=X_latih**2\n",
        "Y_pred2=a+X_latih*b+c*X_latih+d*X_latih\n",
        "\n",
        "#Plot data dan model\n",
        "plt.figure(figsize=(12,8))\n",
        "Y_latih=np.array(Y_latih).reshape((-1,1))\n",
        "plt.scatter(X_latih, Y_latih,  color='blue')\n",
        "plt.scatter(X_latih, Y_pred2, color='red', linewidth=3)\n",
        "\n",
        "plt.title('P. Reg. Gaji VS Kompensasi')\n",
        "plt.xlabel('Gaji')\n",
        "plt.ylabel('Kompensasi')\n",
        "plt.ylim(0,)\n",
        "plt.savefig('Pers Regresi Gaji VS Kompensasi.png', dpi=300)\n",
        "\n",
        "plt.show()"
      ],
      "execution_count": null,
      "outputs": [
        {
          "output_type": "stream",
          "text": [
            "C:\\Users\\Joko\\Anaconda3\\lib\\site-packages\\ipykernel_launcher.py:2: SettingWithCopyWarning: \n",
            "A value is trying to be set on a copy of a slice from a DataFrame.\n",
            "Try using .loc[row_indexer,col_indexer] = value instead\n",
            "\n",
            "See the caveats in the documentation: http://pandas.pydata.org/pandas-docs/stable/user_guide/indexing.html#returning-a-view-versus-a-copy\n",
            "  \n",
            "C:\\Users\\Joko\\Anaconda3\\lib\\site-packages\\ipykernel_launcher.py:3: SettingWithCopyWarning: \n",
            "A value is trying to be set on a copy of a slice from a DataFrame.\n",
            "Try using .loc[row_indexer,col_indexer] = value instead\n",
            "\n",
            "See the caveats in the documentation: http://pandas.pydata.org/pandas-docs/stable/user_guide/indexing.html#returning-a-view-versus-a-copy\n",
            "  This is separate from the ipykernel package so we can avoid doing imports until\n"
          ],
          "name": "stderr"
        },
        {
          "output_type": "stream",
          "text": [
            "Intercept: \n",
            " -1276.589078199977\n",
            "Coefficients: \n",
            " [ 1.59053572e+00 -2.18193258e-06  3.10664738e-12]\n",
            "Koefisien determinasi: 0.9904329155889053\n"
          ],
          "name": "stdout"
        },
        {
          "output_type": "stream",
          "text": [
            "C:\\Users\\Joko\\Anaconda3\\lib\\site-packages\\numpy\\core\\fromnumeric.py:2389: FutureWarning: Method .ptp is deprecated and will be removed in a future version. Use numpy.ptp instead.\n",
            "  return ptp(axis=axis, out=out, **kwargs)\n"
          ],
          "name": "stderr"
        },
        {
          "output_type": "stream",
          "text": [
            "                            OLS Regression Results                            \n",
            "==============================================================================\n",
            "Dep. Variable:     total compensation   R-squared:                       0.990\n",
            "Model:                            OLS   Adj. R-squared:                  0.990\n",
            "Method:                 Least Squares   F-statistic:                 1.440e+07\n",
            "Date:                Mon, 18 Nov 2019   Prob (F-statistic):               0.00\n",
            "Time:                        06:47:12   Log-Likelihood:            -2.8710e+06\n",
            "No. Observations:              280110   AIC:                         5.742e+06\n",
            "Df Residuals:                  280107   BIC:                         5.742e+06\n",
            "Df Model:                           2                                         \n",
            "Covariance Type:            nonrobust                                         \n",
            "=======================================================================================\n",
            "                          coef    std err          t      P>|t|      [0.025      0.975]\n",
            "---------------------------------------------------------------------------------------\n",
            "const                4.139e-05   1.69e-08   2450.117      0.000    4.14e-05    4.14e-05\n",
            "total salary            1.5566      0.001   2450.117      0.000       1.555       1.558\n",
            "total salary square -1.948e-06   7.72e-09   -252.440      0.000   -1.96e-06   -1.93e-06\n",
            "total salary third   2.675e-12   2.23e-14    119.818      0.000    2.63e-12    2.72e-12\n",
            "==============================================================================\n",
            "Omnibus:                    34209.055   Durbin-Watson:                   1.580\n",
            "Prob(Omnibus):                  0.000   Jarque-Bera (JB):           338817.285\n",
            "Skew:                          -0.200   Prob(JB):                         0.00\n",
            "Kurtosis:                       8.373   Cond. No.                     5.54e+15\n",
            "==============================================================================\n",
            "\n",
            "Warnings:\n",
            "[1] Standard Errors assume that the covariance matrix of the errors is correctly specified.\n",
            "[2] The condition number is large, 5.54e+15. This might indicate that there are\n",
            "strong multicollinearity or other numerical problems.\n"
          ],
          "name": "stdout"
        },
        {
          "output_type": "display_data",
          "data": {
            "image/png": "[encoded data removed]",
            "text/plain": [
              "<Figure size 864x576 with 1 Axes>"
            ]
          },
          "metadata": {
            "tags": [],
            "needs_background": "light"
          }
        }
      ]
    },
    {
      "cell_type": "markdown",
      "metadata": {
        "id": "61LhpPz08nNF"
      },
      "source": [
        "### Catatan:\n",
        "Berdasarkan hasil di atas diperoleh persamaan regresi kuadratik yaitu:\n",
        "y=   4.139e-05  + 1.5566x + (-1.948e-06)x^2 + 2.675e-12x^3\n",
        "dengan \n",
        "x adalah variabel gaji keseluruhan\n",
        "y adalah variabel total kompensasi\n",
        "\n",
        "Dari persamaan ini diketahui bahwa, ketika x=0 maka, seseorang dapat menghasilkan kompensasi sebesar 4.139e-05\n",
        "dan untuk setiap x yang diperoleh maka akan mendapatkan peningkatan sebesar 1.5566x + (-1.948e-06)x^2 + 2.675e-12x^3\n",
        "\n",
        "Tingkat kepercayaan dari persamaan regresi linier ini adalah 0.990 atau 99%, artinya tingkat akurasi yang diberikan **sangat tinggi**.\n",
        "\n",
        "Nilai durbin watson pada persamaan ini adalah 1.580, yang berarti tingkat autokorelasi data adalah 1.580, semakin kecil nilai autokorelasi pada persamaan regresi semakin baik."
      ]
    },
    {
      "cell_type": "markdown",
      "metadata": {
        "id": "dd62Qx7n8nNH"
      },
      "source": [
        "### Kesimpulan:\n",
        "Model dengan regresi terbaik adalah model Regresi Kubik y= 4.139e-05 + 1.5566x + (-1.948e-06)x^2 + 2.675e-12x^3 dengan tingkat kepercayaan 99% dan nilai autokorelasi DW 1.580.\n"
      ]
    }
  ]
}